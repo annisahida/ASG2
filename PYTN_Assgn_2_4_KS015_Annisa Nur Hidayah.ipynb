{
 "cells": [
  {
   "cell_type": "markdown",
   "metadata": {},
   "source": [
    "# Import Pustaka"
   ]
  },
  {
   "cell_type": "code",
   "execution_count": 2,
   "metadata": {},
   "outputs": [],
   "source": [
    "import numpy as np\n",
    "import pandas as pd\n",
    "import math\n",
    "import seaborn as sns\n",
    "import statistics\n",
    "import scipy.stats\n",
    "import matplotlib.pyplot as plt\n",
    "import datetime\n",
    "\n",
    "from scipy.stats import t\n",
    "from scipy.stats import ttest_ind\n",
    "from IPython.display import Math, Latex\n",
    "from IPython.core.display import Image\n",
    "sns.set(color_codes=True)\n",
    "sns.set(rc={'figure.figsize':(5,5)})\n",
    "\n",
    "%matplotlib inline"
   ]
  },
  {
   "cell_type": "markdown",
   "metadata": {},
   "source": [
    "# Load Data"
   ]
  },
  {
   "cell_type": "code",
   "execution_count": 11,
   "metadata": {},
   "outputs": [],
   "source": [
    "df = pd.read_csv(\"dataset\\\\nyc-rolling-sales.csv\")\n",
    "pd.set_option(\"display.max_columns\", 22)"
   ]
  },
  {
   "cell_type": "code",
   "execution_count": 12,
   "metadata": {},
   "outputs": [],
   "source": [
    "df_copy = df.copy() # copy dataset"
   ]
  },
  {
   "cell_type": "code",
   "execution_count": 13,
   "metadata": {},
   "outputs": [
    {
     "data": {
      "text/html": [
       "<div>\n",
       "<style scoped>\n",
       "    .dataframe tbody tr th:only-of-type {\n",
       "        vertical-align: middle;\n",
       "    }\n",
       "\n",
       "    .dataframe tbody tr th {\n",
       "        vertical-align: top;\n",
       "    }\n",
       "\n",
       "    .dataframe thead th {\n",
       "        text-align: right;\n",
       "    }\n",
       "</style>\n",
       "<table border=\"1\" class=\"dataframe\">\n",
       "  <thead>\n",
       "    <tr style=\"text-align: right;\">\n",
       "      <th></th>\n",
       "      <th>Unnamed: 0</th>\n",
       "      <th>BOROUGH</th>\n",
       "      <th>NEIGHBORHOOD</th>\n",
       "      <th>BUILDING CLASS CATEGORY</th>\n",
       "      <th>TAX CLASS AT PRESENT</th>\n",
       "      <th>BLOCK</th>\n",
       "      <th>LOT</th>\n",
       "      <th>EASE-MENT</th>\n",
       "      <th>BUILDING CLASS AT PRESENT</th>\n",
       "      <th>ADDRESS</th>\n",
       "      <th>APARTMENT NUMBER</th>\n",
       "      <th>ZIP CODE</th>\n",
       "      <th>RESIDENTIAL UNITS</th>\n",
       "      <th>COMMERCIAL UNITS</th>\n",
       "      <th>TOTAL UNITS</th>\n",
       "      <th>LAND SQUARE FEET</th>\n",
       "      <th>GROSS SQUARE FEET</th>\n",
       "      <th>YEAR BUILT</th>\n",
       "      <th>TAX CLASS AT TIME OF SALE</th>\n",
       "      <th>BUILDING CLASS AT TIME OF SALE</th>\n",
       "      <th>SALE PRICE</th>\n",
       "      <th>SALE DATE</th>\n",
       "    </tr>\n",
       "  </thead>\n",
       "  <tbody>\n",
       "    <tr>\n",
       "      <th>0</th>\n",
       "      <td>4</td>\n",
       "      <td>1</td>\n",
       "      <td>ALPHABET CITY</td>\n",
       "      <td>07 RENTALS - WALKUP APARTMENTS</td>\n",
       "      <td>2A</td>\n",
       "      <td>392</td>\n",
       "      <td>6</td>\n",
       "      <td></td>\n",
       "      <td>C2</td>\n",
       "      <td>153 AVENUE B</td>\n",
       "      <td></td>\n",
       "      <td>10009</td>\n",
       "      <td>5</td>\n",
       "      <td>0</td>\n",
       "      <td>5</td>\n",
       "      <td>1633</td>\n",
       "      <td>6440</td>\n",
       "      <td>1900</td>\n",
       "      <td>2</td>\n",
       "      <td>C2</td>\n",
       "      <td>6625000</td>\n",
       "      <td>2017-07-19 00:00:00</td>\n",
       "    </tr>\n",
       "    <tr>\n",
       "      <th>1</th>\n",
       "      <td>5</td>\n",
       "      <td>1</td>\n",
       "      <td>ALPHABET CITY</td>\n",
       "      <td>07 RENTALS - WALKUP APARTMENTS</td>\n",
       "      <td>2</td>\n",
       "      <td>399</td>\n",
       "      <td>26</td>\n",
       "      <td></td>\n",
       "      <td>C7</td>\n",
       "      <td>234 EAST 4TH   STREET</td>\n",
       "      <td></td>\n",
       "      <td>10009</td>\n",
       "      <td>28</td>\n",
       "      <td>3</td>\n",
       "      <td>31</td>\n",
       "      <td>4616</td>\n",
       "      <td>18690</td>\n",
       "      <td>1900</td>\n",
       "      <td>2</td>\n",
       "      <td>C7</td>\n",
       "      <td>-</td>\n",
       "      <td>2016-12-14 00:00:00</td>\n",
       "    </tr>\n",
       "    <tr>\n",
       "      <th>2</th>\n",
       "      <td>6</td>\n",
       "      <td>1</td>\n",
       "      <td>ALPHABET CITY</td>\n",
       "      <td>07 RENTALS - WALKUP APARTMENTS</td>\n",
       "      <td>2</td>\n",
       "      <td>399</td>\n",
       "      <td>39</td>\n",
       "      <td></td>\n",
       "      <td>C7</td>\n",
       "      <td>197 EAST 3RD   STREET</td>\n",
       "      <td></td>\n",
       "      <td>10009</td>\n",
       "      <td>16</td>\n",
       "      <td>1</td>\n",
       "      <td>17</td>\n",
       "      <td>2212</td>\n",
       "      <td>7803</td>\n",
       "      <td>1900</td>\n",
       "      <td>2</td>\n",
       "      <td>C7</td>\n",
       "      <td>-</td>\n",
       "      <td>2016-12-09 00:00:00</td>\n",
       "    </tr>\n",
       "    <tr>\n",
       "      <th>3</th>\n",
       "      <td>7</td>\n",
       "      <td>1</td>\n",
       "      <td>ALPHABET CITY</td>\n",
       "      <td>07 RENTALS - WALKUP APARTMENTS</td>\n",
       "      <td>2B</td>\n",
       "      <td>402</td>\n",
       "      <td>21</td>\n",
       "      <td></td>\n",
       "      <td>C4</td>\n",
       "      <td>154 EAST 7TH STREET</td>\n",
       "      <td></td>\n",
       "      <td>10009</td>\n",
       "      <td>10</td>\n",
       "      <td>0</td>\n",
       "      <td>10</td>\n",
       "      <td>2272</td>\n",
       "      <td>6794</td>\n",
       "      <td>1913</td>\n",
       "      <td>2</td>\n",
       "      <td>C4</td>\n",
       "      <td>3936272</td>\n",
       "      <td>2016-09-23 00:00:00</td>\n",
       "    </tr>\n",
       "    <tr>\n",
       "      <th>4</th>\n",
       "      <td>8</td>\n",
       "      <td>1</td>\n",
       "      <td>ALPHABET CITY</td>\n",
       "      <td>07 RENTALS - WALKUP APARTMENTS</td>\n",
       "      <td>2A</td>\n",
       "      <td>404</td>\n",
       "      <td>55</td>\n",
       "      <td></td>\n",
       "      <td>C2</td>\n",
       "      <td>301 EAST 10TH   STREET</td>\n",
       "      <td></td>\n",
       "      <td>10009</td>\n",
       "      <td>6</td>\n",
       "      <td>0</td>\n",
       "      <td>6</td>\n",
       "      <td>2369</td>\n",
       "      <td>4615</td>\n",
       "      <td>1900</td>\n",
       "      <td>2</td>\n",
       "      <td>C2</td>\n",
       "      <td>8000000</td>\n",
       "      <td>2016-11-17 00:00:00</td>\n",
       "    </tr>\n",
       "  </tbody>\n",
       "</table>\n",
       "</div>"
      ],
      "text/plain": [
       "   Unnamed: 0  BOROUGH   NEIGHBORHOOD   \n",
       "0           4        1  ALPHABET CITY  \\\n",
       "1           5        1  ALPHABET CITY   \n",
       "2           6        1  ALPHABET CITY   \n",
       "3           7        1  ALPHABET CITY   \n",
       "4           8        1  ALPHABET CITY   \n",
       "\n",
       "                       BUILDING CLASS CATEGORY TAX CLASS AT PRESENT  BLOCK   \n",
       "0  07 RENTALS - WALKUP APARTMENTS                                2A    392  \\\n",
       "1  07 RENTALS - WALKUP APARTMENTS                                 2    399   \n",
       "2  07 RENTALS - WALKUP APARTMENTS                                 2    399   \n",
       "3  07 RENTALS - WALKUP APARTMENTS                                2B    402   \n",
       "4  07 RENTALS - WALKUP APARTMENTS                                2A    404   \n",
       "\n",
       "   LOT EASE-MENT BUILDING CLASS AT PRESENT                 ADDRESS   \n",
       "0    6                                  C2            153 AVENUE B  \\\n",
       "1   26                                  C7   234 EAST 4TH   STREET   \n",
       "2   39                                  C7   197 EAST 3RD   STREET   \n",
       "3   21                                  C4     154 EAST 7TH STREET   \n",
       "4   55                                  C2  301 EAST 10TH   STREET   \n",
       "\n",
       "  APARTMENT NUMBER  ZIP CODE  RESIDENTIAL UNITS  COMMERCIAL UNITS   \n",
       "0                      10009                  5                 0  \\\n",
       "1                      10009                 28                 3   \n",
       "2                      10009                 16                 1   \n",
       "3                      10009                 10                 0   \n",
       "4                      10009                  6                 0   \n",
       "\n",
       "   TOTAL UNITS LAND SQUARE FEET GROSS SQUARE FEET  YEAR BUILT   \n",
       "0            5             1633              6440        1900  \\\n",
       "1           31             4616             18690        1900   \n",
       "2           17             2212              7803        1900   \n",
       "3           10             2272              6794        1913   \n",
       "4            6             2369              4615        1900   \n",
       "\n",
       "   TAX CLASS AT TIME OF SALE BUILDING CLASS AT TIME OF SALE SALE PRICE   \n",
       "0                          2                             C2    6625000  \\\n",
       "1                          2                             C7        -     \n",
       "2                          2                             C7        -     \n",
       "3                          2                             C4    3936272   \n",
       "4                          2                             C2    8000000   \n",
       "\n",
       "             SALE DATE  \n",
       "0  2017-07-19 00:00:00  \n",
       "1  2016-12-14 00:00:00  \n",
       "2  2016-12-09 00:00:00  \n",
       "3  2016-09-23 00:00:00  \n",
       "4  2016-11-17 00:00:00  "
      ]
     },
     "execution_count": 13,
     "metadata": {},
     "output_type": "execute_result"
    }
   ],
   "source": [
    "df_copy.head() # menampilkan 5 data pertama"
   ]
  },
  {
   "cell_type": "code",
   "execution_count": 14,
   "metadata": {},
   "outputs": [
    {
     "data": {
      "text/html": [
       "<div>\n",
       "<style scoped>\n",
       "    .dataframe tbody tr th:only-of-type {\n",
       "        vertical-align: middle;\n",
       "    }\n",
       "\n",
       "    .dataframe tbody tr th {\n",
       "        vertical-align: top;\n",
       "    }\n",
       "\n",
       "    .dataframe thead th {\n",
       "        text-align: right;\n",
       "    }\n",
       "</style>\n",
       "<table border=\"1\" class=\"dataframe\">\n",
       "  <thead>\n",
       "    <tr style=\"text-align: right;\">\n",
       "      <th></th>\n",
       "      <th>Unnamed: 0</th>\n",
       "      <th>BOROUGH</th>\n",
       "      <th>NEIGHBORHOOD</th>\n",
       "      <th>BUILDING CLASS CATEGORY</th>\n",
       "      <th>TAX CLASS AT PRESENT</th>\n",
       "      <th>BLOCK</th>\n",
       "      <th>LOT</th>\n",
       "      <th>EASE-MENT</th>\n",
       "      <th>BUILDING CLASS AT PRESENT</th>\n",
       "      <th>ADDRESS</th>\n",
       "      <th>APARTMENT NUMBER</th>\n",
       "      <th>ZIP CODE</th>\n",
       "      <th>RESIDENTIAL UNITS</th>\n",
       "      <th>COMMERCIAL UNITS</th>\n",
       "      <th>TOTAL UNITS</th>\n",
       "      <th>LAND SQUARE FEET</th>\n",
       "      <th>GROSS SQUARE FEET</th>\n",
       "      <th>YEAR BUILT</th>\n",
       "      <th>TAX CLASS AT TIME OF SALE</th>\n",
       "      <th>BUILDING CLASS AT TIME OF SALE</th>\n",
       "      <th>SALE PRICE</th>\n",
       "      <th>SALE DATE</th>\n",
       "    </tr>\n",
       "  </thead>\n",
       "  <tbody>\n",
       "    <tr>\n",
       "      <th>84543</th>\n",
       "      <td>8409</td>\n",
       "      <td>5</td>\n",
       "      <td>WOODROW</td>\n",
       "      <td>02 TWO FAMILY DWELLINGS</td>\n",
       "      <td>1</td>\n",
       "      <td>7349</td>\n",
       "      <td>34</td>\n",
       "      <td></td>\n",
       "      <td>B9</td>\n",
       "      <td>37 QUAIL LANE</td>\n",
       "      <td></td>\n",
       "      <td>10309</td>\n",
       "      <td>2</td>\n",
       "      <td>0</td>\n",
       "      <td>2</td>\n",
       "      <td>2400</td>\n",
       "      <td>2575</td>\n",
       "      <td>1998</td>\n",
       "      <td>1</td>\n",
       "      <td>B9</td>\n",
       "      <td>450000</td>\n",
       "      <td>2016-11-28 00:00:00</td>\n",
       "    </tr>\n",
       "    <tr>\n",
       "      <th>84544</th>\n",
       "      <td>8410</td>\n",
       "      <td>5</td>\n",
       "      <td>WOODROW</td>\n",
       "      <td>02 TWO FAMILY DWELLINGS</td>\n",
       "      <td>1</td>\n",
       "      <td>7349</td>\n",
       "      <td>78</td>\n",
       "      <td></td>\n",
       "      <td>B9</td>\n",
       "      <td>32 PHEASANT LANE</td>\n",
       "      <td></td>\n",
       "      <td>10309</td>\n",
       "      <td>2</td>\n",
       "      <td>0</td>\n",
       "      <td>2</td>\n",
       "      <td>2498</td>\n",
       "      <td>2377</td>\n",
       "      <td>1998</td>\n",
       "      <td>1</td>\n",
       "      <td>B9</td>\n",
       "      <td>550000</td>\n",
       "      <td>2017-04-21 00:00:00</td>\n",
       "    </tr>\n",
       "    <tr>\n",
       "      <th>84545</th>\n",
       "      <td>8411</td>\n",
       "      <td>5</td>\n",
       "      <td>WOODROW</td>\n",
       "      <td>02 TWO FAMILY DWELLINGS</td>\n",
       "      <td>1</td>\n",
       "      <td>7351</td>\n",
       "      <td>60</td>\n",
       "      <td></td>\n",
       "      <td>B2</td>\n",
       "      <td>49 PITNEY AVENUE</td>\n",
       "      <td></td>\n",
       "      <td>10309</td>\n",
       "      <td>2</td>\n",
       "      <td>0</td>\n",
       "      <td>2</td>\n",
       "      <td>4000</td>\n",
       "      <td>1496</td>\n",
       "      <td>1925</td>\n",
       "      <td>1</td>\n",
       "      <td>B2</td>\n",
       "      <td>460000</td>\n",
       "      <td>2017-07-05 00:00:00</td>\n",
       "    </tr>\n",
       "    <tr>\n",
       "      <th>84546</th>\n",
       "      <td>8412</td>\n",
       "      <td>5</td>\n",
       "      <td>WOODROW</td>\n",
       "      <td>22 STORE BUILDINGS</td>\n",
       "      <td>4</td>\n",
       "      <td>7100</td>\n",
       "      <td>28</td>\n",
       "      <td></td>\n",
       "      <td>K6</td>\n",
       "      <td>2730 ARTHUR KILL ROAD</td>\n",
       "      <td></td>\n",
       "      <td>10309</td>\n",
       "      <td>0</td>\n",
       "      <td>7</td>\n",
       "      <td>7</td>\n",
       "      <td>208033</td>\n",
       "      <td>64117</td>\n",
       "      <td>2001</td>\n",
       "      <td>4</td>\n",
       "      <td>K6</td>\n",
       "      <td>11693337</td>\n",
       "      <td>2016-12-21 00:00:00</td>\n",
       "    </tr>\n",
       "    <tr>\n",
       "      <th>84547</th>\n",
       "      <td>8413</td>\n",
       "      <td>5</td>\n",
       "      <td>WOODROW</td>\n",
       "      <td>35 INDOOR PUBLIC AND CULTURAL FACILITIES</td>\n",
       "      <td>4</td>\n",
       "      <td>7105</td>\n",
       "      <td>679</td>\n",
       "      <td></td>\n",
       "      <td>P9</td>\n",
       "      <td>155 CLAY PIT ROAD</td>\n",
       "      <td></td>\n",
       "      <td>10309</td>\n",
       "      <td>0</td>\n",
       "      <td>1</td>\n",
       "      <td>1</td>\n",
       "      <td>10796</td>\n",
       "      <td>2400</td>\n",
       "      <td>2006</td>\n",
       "      <td>4</td>\n",
       "      <td>P9</td>\n",
       "      <td>69300</td>\n",
       "      <td>2016-10-27 00:00:00</td>\n",
       "    </tr>\n",
       "  </tbody>\n",
       "</table>\n",
       "</div>"
      ],
      "text/plain": [
       "       Unnamed: 0  BOROUGH NEIGHBORHOOD   \n",
       "84543        8409        5      WOODROW  \\\n",
       "84544        8410        5      WOODROW   \n",
       "84545        8411        5      WOODROW   \n",
       "84546        8412        5      WOODROW   \n",
       "84547        8413        5      WOODROW   \n",
       "\n",
       "                           BUILDING CLASS CATEGORY TAX CLASS AT PRESENT   \n",
       "84543  02 TWO FAMILY DWELLINGS                                        1  \\\n",
       "84544  02 TWO FAMILY DWELLINGS                                        1   \n",
       "84545  02 TWO FAMILY DWELLINGS                                        1   \n",
       "84546  22 STORE BUILDINGS                                             4   \n",
       "84547  35 INDOOR PUBLIC AND CULTURAL FACILITIES                       4   \n",
       "\n",
       "       BLOCK  LOT EASE-MENT BUILDING CLASS AT PRESENT                ADDRESS   \n",
       "84543   7349   34                                  B9          37 QUAIL LANE  \\\n",
       "84544   7349   78                                  B9       32 PHEASANT LANE   \n",
       "84545   7351   60                                  B2       49 PITNEY AVENUE   \n",
       "84546   7100   28                                  K6  2730 ARTHUR KILL ROAD   \n",
       "84547   7105  679                                  P9      155 CLAY PIT ROAD   \n",
       "\n",
       "      APARTMENT NUMBER  ZIP CODE  RESIDENTIAL UNITS  COMMERCIAL UNITS   \n",
       "84543                      10309                  2                 0  \\\n",
       "84544                      10309                  2                 0   \n",
       "84545                      10309                  2                 0   \n",
       "84546                      10309                  0                 7   \n",
       "84547                      10309                  0                 1   \n",
       "\n",
       "       TOTAL UNITS LAND SQUARE FEET GROSS SQUARE FEET  YEAR BUILT   \n",
       "84543            2             2400              2575        1998  \\\n",
       "84544            2             2498              2377        1998   \n",
       "84545            2             4000              1496        1925   \n",
       "84546            7           208033             64117        2001   \n",
       "84547            1            10796              2400        2006   \n",
       "\n",
       "       TAX CLASS AT TIME OF SALE BUILDING CLASS AT TIME OF SALE SALE PRICE   \n",
       "84543                          1                             B9     450000  \\\n",
       "84544                          1                             B9     550000   \n",
       "84545                          1                             B2     460000   \n",
       "84546                          4                             K6   11693337   \n",
       "84547                          4                             P9      69300   \n",
       "\n",
       "                 SALE DATE  \n",
       "84543  2016-11-28 00:00:00  \n",
       "84544  2017-04-21 00:00:00  \n",
       "84545  2017-07-05 00:00:00  \n",
       "84546  2016-12-21 00:00:00  \n",
       "84547  2016-10-27 00:00:00  "
      ]
     },
     "execution_count": 14,
     "metadata": {},
     "output_type": "execute_result"
    }
   ],
   "source": [
    "df_copy.tail() # menampilkan 5 data terakhir"
   ]
  },
  {
   "cell_type": "code",
   "execution_count": 15,
   "metadata": {},
   "outputs": [
    {
     "data": {
      "text/plain": [
       "(84548, 22)"
      ]
     },
     "execution_count": 15,
     "metadata": {},
     "output_type": "execute_result"
    }
   ],
   "source": [
    "# Dimensi dataset\n",
    "df_copy.shape"
   ]
  },
  {
   "cell_type": "code",
   "execution_count": 16,
   "metadata": {},
   "outputs": [
    {
     "name": "stdout",
     "output_type": "stream",
     "text": [
      "<class 'pandas.core.frame.DataFrame'>\n",
      "RangeIndex: 84548 entries, 0 to 84547\n",
      "Data columns (total 22 columns):\n",
      " #   Column                          Non-Null Count  Dtype \n",
      "---  ------                          --------------  ----- \n",
      " 0   Unnamed: 0                      84548 non-null  int64 \n",
      " 1   BOROUGH                         84548 non-null  int64 \n",
      " 2   NEIGHBORHOOD                    84548 non-null  object\n",
      " 3   BUILDING CLASS CATEGORY         84548 non-null  object\n",
      " 4   TAX CLASS AT PRESENT            84548 non-null  object\n",
      " 5   BLOCK                           84548 non-null  int64 \n",
      " 6   LOT                             84548 non-null  int64 \n",
      " 7   EASE-MENT                       84548 non-null  object\n",
      " 8   BUILDING CLASS AT PRESENT       84548 non-null  object\n",
      " 9   ADDRESS                         84548 non-null  object\n",
      " 10  APARTMENT NUMBER                84548 non-null  object\n",
      " 11  ZIP CODE                        84548 non-null  int64 \n",
      " 12  RESIDENTIAL UNITS               84548 non-null  int64 \n",
      " 13  COMMERCIAL UNITS                84548 non-null  int64 \n",
      " 14  TOTAL UNITS                     84548 non-null  int64 \n",
      " 15  LAND SQUARE FEET                84548 non-null  object\n",
      " 16  GROSS SQUARE FEET               84548 non-null  object\n",
      " 17  YEAR BUILT                      84548 non-null  int64 \n",
      " 18  TAX CLASS AT TIME OF SALE       84548 non-null  int64 \n",
      " 19  BUILDING CLASS AT TIME OF SALE  84548 non-null  object\n",
      " 20  SALE PRICE                      84548 non-null  object\n",
      " 21  SALE DATE                       84548 non-null  object\n",
      "dtypes: int64(10), object(12)\n",
      "memory usage: 14.2+ MB\n"
     ]
    }
   ],
   "source": [
    "# Menampilkan tipe-tipe kolom pada dataset\n",
    "df_copy.info()"
   ]
  },
  {
   "cell_type": "markdown",
   "metadata": {},
   "source": [
    "Berdasarkan output dari dimensi dan infromasi dataset, diketahui bahwa terdapat observasi 84548 baris dan variabelnya 22 kolom."
   ]
  },
  {
   "cell_type": "code",
   "execution_count": 17,
   "metadata": {},
   "outputs": [
    {
     "data": {
      "text/html": [
       "<div>\n",
       "<style scoped>\n",
       "    .dataframe tbody tr th:only-of-type {\n",
       "        vertical-align: middle;\n",
       "    }\n",
       "\n",
       "    .dataframe tbody tr th {\n",
       "        vertical-align: top;\n",
       "    }\n",
       "\n",
       "    .dataframe thead th {\n",
       "        text-align: right;\n",
       "    }\n",
       "</style>\n",
       "<table border=\"1\" class=\"dataframe\">\n",
       "  <thead>\n",
       "    <tr style=\"text-align: right;\">\n",
       "      <th></th>\n",
       "      <th>Unnamed: 0</th>\n",
       "      <th>BOROUGH</th>\n",
       "      <th>BLOCK</th>\n",
       "      <th>LOT</th>\n",
       "      <th>ZIP CODE</th>\n",
       "      <th>RESIDENTIAL UNITS</th>\n",
       "      <th>COMMERCIAL UNITS</th>\n",
       "      <th>TOTAL UNITS</th>\n",
       "      <th>YEAR BUILT</th>\n",
       "      <th>TAX CLASS AT TIME OF SALE</th>\n",
       "    </tr>\n",
       "  </thead>\n",
       "  <tbody>\n",
       "    <tr>\n",
       "      <th>count</th>\n",
       "      <td>84548.000000</td>\n",
       "      <td>84548.000000</td>\n",
       "      <td>84548.000000</td>\n",
       "      <td>84548.000000</td>\n",
       "      <td>84548.000000</td>\n",
       "      <td>84548.000000</td>\n",
       "      <td>84548.000000</td>\n",
       "      <td>84548.000000</td>\n",
       "      <td>84548.000000</td>\n",
       "      <td>84548.000000</td>\n",
       "    </tr>\n",
       "    <tr>\n",
       "      <th>mean</th>\n",
       "      <td>10344.359878</td>\n",
       "      <td>2.998758</td>\n",
       "      <td>4237.218976</td>\n",
       "      <td>376.224015</td>\n",
       "      <td>10731.991614</td>\n",
       "      <td>2.025264</td>\n",
       "      <td>0.193559</td>\n",
       "      <td>2.249184</td>\n",
       "      <td>1789.322976</td>\n",
       "      <td>1.657485</td>\n",
       "    </tr>\n",
       "    <tr>\n",
       "      <th>std</th>\n",
       "      <td>7151.779436</td>\n",
       "      <td>1.289790</td>\n",
       "      <td>3568.263407</td>\n",
       "      <td>658.136814</td>\n",
       "      <td>1290.879147</td>\n",
       "      <td>16.721037</td>\n",
       "      <td>8.713183</td>\n",
       "      <td>18.972584</td>\n",
       "      <td>537.344993</td>\n",
       "      <td>0.819341</td>\n",
       "    </tr>\n",
       "    <tr>\n",
       "      <th>min</th>\n",
       "      <td>4.000000</td>\n",
       "      <td>1.000000</td>\n",
       "      <td>1.000000</td>\n",
       "      <td>1.000000</td>\n",
       "      <td>0.000000</td>\n",
       "      <td>0.000000</td>\n",
       "      <td>0.000000</td>\n",
       "      <td>0.000000</td>\n",
       "      <td>0.000000</td>\n",
       "      <td>1.000000</td>\n",
       "    </tr>\n",
       "    <tr>\n",
       "      <th>25%</th>\n",
       "      <td>4231.000000</td>\n",
       "      <td>2.000000</td>\n",
       "      <td>1322.750000</td>\n",
       "      <td>22.000000</td>\n",
       "      <td>10305.000000</td>\n",
       "      <td>0.000000</td>\n",
       "      <td>0.000000</td>\n",
       "      <td>1.000000</td>\n",
       "      <td>1920.000000</td>\n",
       "      <td>1.000000</td>\n",
       "    </tr>\n",
       "    <tr>\n",
       "      <th>50%</th>\n",
       "      <td>8942.000000</td>\n",
       "      <td>3.000000</td>\n",
       "      <td>3311.000000</td>\n",
       "      <td>50.000000</td>\n",
       "      <td>11209.000000</td>\n",
       "      <td>1.000000</td>\n",
       "      <td>0.000000</td>\n",
       "      <td>1.000000</td>\n",
       "      <td>1940.000000</td>\n",
       "      <td>2.000000</td>\n",
       "    </tr>\n",
       "    <tr>\n",
       "      <th>75%</th>\n",
       "      <td>15987.250000</td>\n",
       "      <td>4.000000</td>\n",
       "      <td>6281.000000</td>\n",
       "      <td>1001.000000</td>\n",
       "      <td>11357.000000</td>\n",
       "      <td>2.000000</td>\n",
       "      <td>0.000000</td>\n",
       "      <td>2.000000</td>\n",
       "      <td>1965.000000</td>\n",
       "      <td>2.000000</td>\n",
       "    </tr>\n",
       "    <tr>\n",
       "      <th>max</th>\n",
       "      <td>26739.000000</td>\n",
       "      <td>5.000000</td>\n",
       "      <td>16322.000000</td>\n",
       "      <td>9106.000000</td>\n",
       "      <td>11694.000000</td>\n",
       "      <td>1844.000000</td>\n",
       "      <td>2261.000000</td>\n",
       "      <td>2261.000000</td>\n",
       "      <td>2017.000000</td>\n",
       "      <td>4.000000</td>\n",
       "    </tr>\n",
       "  </tbody>\n",
       "</table>\n",
       "</div>"
      ],
      "text/plain": [
       "         Unnamed: 0       BOROUGH         BLOCK           LOT      ZIP CODE   \n",
       "count  84548.000000  84548.000000  84548.000000  84548.000000  84548.000000  \\\n",
       "mean   10344.359878      2.998758   4237.218976    376.224015  10731.991614   \n",
       "std     7151.779436      1.289790   3568.263407    658.136814   1290.879147   \n",
       "min        4.000000      1.000000      1.000000      1.000000      0.000000   \n",
       "25%     4231.000000      2.000000   1322.750000     22.000000  10305.000000   \n",
       "50%     8942.000000      3.000000   3311.000000     50.000000  11209.000000   \n",
       "75%    15987.250000      4.000000   6281.000000   1001.000000  11357.000000   \n",
       "max    26739.000000      5.000000  16322.000000   9106.000000  11694.000000   \n",
       "\n",
       "       RESIDENTIAL UNITS  COMMERCIAL UNITS   TOTAL UNITS    YEAR BUILT   \n",
       "count       84548.000000      84548.000000  84548.000000  84548.000000  \\\n",
       "mean            2.025264          0.193559      2.249184   1789.322976   \n",
       "std            16.721037          8.713183     18.972584    537.344993   \n",
       "min             0.000000          0.000000      0.000000      0.000000   \n",
       "25%             0.000000          0.000000      1.000000   1920.000000   \n",
       "50%             1.000000          0.000000      1.000000   1940.000000   \n",
       "75%             2.000000          0.000000      2.000000   1965.000000   \n",
       "max          1844.000000       2261.000000   2261.000000   2017.000000   \n",
       "\n",
       "       TAX CLASS AT TIME OF SALE  \n",
       "count               84548.000000  \n",
       "mean                    1.657485  \n",
       "std                     0.819341  \n",
       "min                     1.000000  \n",
       "25%                     1.000000  \n",
       "50%                     2.000000  \n",
       "75%                     2.000000  \n",
       "max                     4.000000  "
      ]
     },
     "execution_count": 17,
     "metadata": {},
     "output_type": "execute_result"
    }
   ],
   "source": [
    "df_copy.describe()"
   ]
  },
  {
   "cell_type": "code",
   "execution_count": 18,
   "metadata": {},
   "outputs": [
    {
     "data": {
      "text/plain": [
       "Unnamed: 0                        26736\n",
       "BOROUGH                               5\n",
       "NEIGHBORHOOD                        254\n",
       "BUILDING CLASS CATEGORY              47\n",
       "TAX CLASS AT PRESENT                 11\n",
       "BLOCK                             11566\n",
       "LOT                                2627\n",
       "EASE-MENT                             1\n",
       "BUILDING CLASS AT PRESENT           167\n",
       "ADDRESS                           67563\n",
       "APARTMENT NUMBER                   3989\n",
       "ZIP CODE                            186\n",
       "RESIDENTIAL UNITS                   176\n",
       "COMMERCIAL UNITS                     55\n",
       "TOTAL UNITS                         192\n",
       "LAND SQUARE FEET                   6062\n",
       "GROSS SQUARE FEET                  5691\n",
       "YEAR BUILT                          158\n",
       "TAX CLASS AT TIME OF SALE             4\n",
       "BUILDING CLASS AT TIME OF SALE      166\n",
       "SALE PRICE                        10008\n",
       "SALE DATE                           364\n",
       "dtype: int64"
      ]
     },
     "execution_count": 18,
     "metadata": {},
     "output_type": "execute_result"
    }
   ],
   "source": [
    "df_copy.nunique()"
   ]
  },
  {
   "cell_type": "markdown",
   "metadata": {},
   "source": [
    "# Data Cleaning dan prepocessing\n",
    "## Drop Unnecessary Columns"
   ]
  },
  {
   "cell_type": "code",
   "execution_count": 19,
   "metadata": {},
   "outputs": [],
   "source": [
    "# Menghapus kolom yang tidak diperlukan\n",
    "df_copy.drop(['Unnamed: 0', 'BLOCK', 'LOT', 'EASE-MENT', 'ADDRESS', 'APARTMENT NUMBER', 'ZIP CODE'], axis=1, inplace=True)"
   ]
  },
  {
   "cell_type": "code",
   "execution_count": 20,
   "metadata": {},
   "outputs": [
    {
     "name": "stdout",
     "output_type": "stream",
     "text": [
      "<class 'pandas.core.frame.DataFrame'>\n",
      "RangeIndex: 84548 entries, 0 to 84547\n",
      "Data columns (total 15 columns):\n",
      " #   Column                          Non-Null Count  Dtype \n",
      "---  ------                          --------------  ----- \n",
      " 0   BOROUGH                         84548 non-null  int64 \n",
      " 1   NEIGHBORHOOD                    84548 non-null  object\n",
      " 2   BUILDING CLASS CATEGORY         84548 non-null  object\n",
      " 3   TAX CLASS AT PRESENT            84548 non-null  object\n",
      " 4   BUILDING CLASS AT PRESENT       84548 non-null  object\n",
      " 5   RESIDENTIAL UNITS               84548 non-null  int64 \n",
      " 6   COMMERCIAL UNITS                84548 non-null  int64 \n",
      " 7   TOTAL UNITS                     84548 non-null  int64 \n",
      " 8   LAND SQUARE FEET                84548 non-null  object\n",
      " 9   GROSS SQUARE FEET               84548 non-null  object\n",
      " 10  YEAR BUILT                      84548 non-null  int64 \n",
      " 11  TAX CLASS AT TIME OF SALE       84548 non-null  int64 \n",
      " 12  BUILDING CLASS AT TIME OF SALE  84548 non-null  object\n",
      " 13  SALE PRICE                      84548 non-null  object\n",
      " 14  SALE DATE                       84548 non-null  object\n",
      "dtypes: int64(6), object(9)\n",
      "memory usage: 9.7+ MB\n"
     ]
    }
   ],
   "source": [
    "df_copy.info()"
   ]
  },
  {
   "cell_type": "markdown",
   "metadata": {},
   "source": [
    "## Mengganti Tipe Beberapa Kolom menjadi Categorical"
   ]
  },
  {
   "cell_type": "code",
   "execution_count": 21,
   "metadata": {},
   "outputs": [],
   "source": [
    "categoricals = ['BOROUGH', 'NEIGHBORHOOD', 'BUILDING CLASS CATEGORY', \n",
    "                'TAX CLASS AT PRESENT', 'YEAR BUILT', 'TAX CLASS AT TIME OF SALE', \n",
    "                'BUILDING CLASS AT TIME OF SALE', 'BUILDING CLASS AT PRESENT']\n",
    "\n",
    "for col in categoricals:\n",
    "    df_copy[col] = df_copy[col].astype('category')"
   ]
  },
  {
   "cell_type": "markdown",
   "metadata": {},
   "source": [
    "## Membuat Kolom Keterangan Waktu, Bulan, dan Tahun"
   ]
  },
  {
   "cell_type": "code",
   "execution_count": 22,
   "metadata": {},
   "outputs": [],
   "source": [
    "df_copy['SALE DATE'] = pd.to_datetime(df_copy['SALE DATE'])\n",
    "df_copy['SALE MONTH'] = df_copy['SALE DATE'].dt.month_name()\n",
    "df_copy['SALE YEAR'] = df_copy['SALE DATE'].dt.year"
   ]
  },
  {
   "cell_type": "markdown",
   "metadata": {},
   "source": [
    "## Mengubah Beberapa Kolom menjadi Numerical"
   ]
  },
  {
   "cell_type": "code",
   "execution_count": 23,
   "metadata": {},
   "outputs": [],
   "source": [
    "df_copy['LAND SQUARE FEET'] = pd.to_numeric(df_copy['LAND SQUARE FEET'], errors='coerce')\n",
    "df_copy['GROSS SQUARE FEET'] = pd.to_numeric(df_copy['GROSS SQUARE FEET'], errors='coerce')\n",
    "df_copy['SALE PRICE'] = pd.to_numeric(df_copy['SALE PRICE'], errors='coerce')"
   ]
  },
  {
   "cell_type": "markdown",
   "metadata": {},
   "source": [
    "## Memeriksa Missing Values dan Drop Missing Values pada Dataset"
   ]
  },
  {
   "cell_type": "code",
   "execution_count": 24,
   "metadata": {},
   "outputs": [
    {
     "data": {
      "text/html": [
       "<div>\n",
       "<style scoped>\n",
       "    .dataframe tbody tr th:only-of-type {\n",
       "        vertical-align: middle;\n",
       "    }\n",
       "\n",
       "    .dataframe tbody tr th {\n",
       "        vertical-align: top;\n",
       "    }\n",
       "\n",
       "    .dataframe thead th {\n",
       "        text-align: right;\n",
       "    }\n",
       "</style>\n",
       "<table border=\"1\" class=\"dataframe\">\n",
       "  <thead>\n",
       "    <tr style=\"text-align: right;\">\n",
       "      <th></th>\n",
       "      <th>missing_values_percentage</th>\n",
       "    </tr>\n",
       "  </thead>\n",
       "  <tbody>\n",
       "    <tr>\n",
       "      <th>BOROUGH</th>\n",
       "      <td>0.00</td>\n",
       "    </tr>\n",
       "    <tr>\n",
       "      <th>NEIGHBORHOOD</th>\n",
       "      <td>0.00</td>\n",
       "    </tr>\n",
       "    <tr>\n",
       "      <th>BUILDING CLASS CATEGORY</th>\n",
       "      <td>0.00</td>\n",
       "    </tr>\n",
       "    <tr>\n",
       "      <th>TAX CLASS AT PRESENT</th>\n",
       "      <td>0.00</td>\n",
       "    </tr>\n",
       "    <tr>\n",
       "      <th>BUILDING CLASS AT PRESENT</th>\n",
       "      <td>0.00</td>\n",
       "    </tr>\n",
       "    <tr>\n",
       "      <th>RESIDENTIAL UNITS</th>\n",
       "      <td>0.00</td>\n",
       "    </tr>\n",
       "    <tr>\n",
       "      <th>COMMERCIAL UNITS</th>\n",
       "      <td>0.00</td>\n",
       "    </tr>\n",
       "    <tr>\n",
       "      <th>TOTAL UNITS</th>\n",
       "      <td>0.00</td>\n",
       "    </tr>\n",
       "    <tr>\n",
       "      <th>LAND SQUARE FEET</th>\n",
       "      <td>31.05</td>\n",
       "    </tr>\n",
       "    <tr>\n",
       "      <th>GROSS SQUARE FEET</th>\n",
       "      <td>32.66</td>\n",
       "    </tr>\n",
       "    <tr>\n",
       "      <th>YEAR BUILT</th>\n",
       "      <td>0.00</td>\n",
       "    </tr>\n",
       "    <tr>\n",
       "      <th>TAX CLASS AT TIME OF SALE</th>\n",
       "      <td>0.00</td>\n",
       "    </tr>\n",
       "    <tr>\n",
       "      <th>BUILDING CLASS AT TIME OF SALE</th>\n",
       "      <td>0.00</td>\n",
       "    </tr>\n",
       "    <tr>\n",
       "      <th>SALE PRICE</th>\n",
       "      <td>17.22</td>\n",
       "    </tr>\n",
       "    <tr>\n",
       "      <th>SALE DATE</th>\n",
       "      <td>0.00</td>\n",
       "    </tr>\n",
       "    <tr>\n",
       "      <th>SALE MONTH</th>\n",
       "      <td>0.00</td>\n",
       "    </tr>\n",
       "    <tr>\n",
       "      <th>SALE YEAR</th>\n",
       "      <td>0.00</td>\n",
       "    </tr>\n",
       "  </tbody>\n",
       "</table>\n",
       "</div>"
      ],
      "text/plain": [
       "                                missing_values_percentage\n",
       "BOROUGH                                              0.00\n",
       "NEIGHBORHOOD                                         0.00\n",
       "BUILDING CLASS CATEGORY                              0.00\n",
       "TAX CLASS AT PRESENT                                 0.00\n",
       "BUILDING CLASS AT PRESENT                            0.00\n",
       "RESIDENTIAL UNITS                                    0.00\n",
       "COMMERCIAL UNITS                                     0.00\n",
       "TOTAL UNITS                                          0.00\n",
       "LAND SQUARE FEET                                    31.05\n",
       "GROSS SQUARE FEET                                   32.66\n",
       "YEAR BUILT                                           0.00\n",
       "TAX CLASS AT TIME OF SALE                            0.00\n",
       "BUILDING CLASS AT TIME OF SALE                       0.00\n",
       "SALE PRICE                                          17.22\n",
       "SALE DATE                                            0.00\n",
       "SALE MONTH                                           0.00\n",
       "SALE YEAR                                            0.00"
      ]
     },
     "execution_count": 24,
     "metadata": {},
     "output_type": "execute_result"
    }
   ],
   "source": [
    "missing = round((df_copy.isnull().sum())/len(df_copy)*100, 2)\n",
    "missing = pd.DataFrame(missing)\n",
    "missing = missing.rename(columns={0:'missing_values_percentage'})\n",
    "missing"
   ]
  },
  {
   "cell_type": "markdown",
   "metadata": {},
   "source": [
    "Dari tabel missing values di atas, pada kolom land square feet terdapat 31% missing values, kolom gross square feet terdapat 33% missing values, dan kolom sale price terdapat 17% missing values. Karena kolon land square feet dan gross square feet mengandung missing values maka dianggap data yang tidak valid sehingga missing values akan didrop atau dihilangkan dari dataset."
   ]
  },
  {
   "cell_type": "code",
   "execution_count": 25,
   "metadata": {},
   "outputs": [],
   "source": [
    "df_copy = df_copy.dropna()"
   ]
  },
  {
   "cell_type": "code",
   "execution_count": 26,
   "metadata": {},
   "outputs": [
    {
     "data": {
      "text/plain": [
       "BOROUGH                           False\n",
       "NEIGHBORHOOD                      False\n",
       "BUILDING CLASS CATEGORY           False\n",
       "TAX CLASS AT PRESENT              False\n",
       "BUILDING CLASS AT PRESENT         False\n",
       "RESIDENTIAL UNITS                 False\n",
       "COMMERCIAL UNITS                  False\n",
       "TOTAL UNITS                       False\n",
       "LAND SQUARE FEET                  False\n",
       "GROSS SQUARE FEET                 False\n",
       "YEAR BUILT                        False\n",
       "TAX CLASS AT TIME OF SALE         False\n",
       "BUILDING CLASS AT TIME OF SALE    False\n",
       "SALE PRICE                        False\n",
       "SALE DATE                         False\n",
       "SALE MONTH                        False\n",
       "SALE YEAR                         False\n",
       "dtype: bool"
      ]
     },
     "execution_count": 26,
     "metadata": {},
     "output_type": "execute_result"
    }
   ],
   "source": [
    "df_copy.isnull().any()"
   ]
  },
  {
   "cell_type": "code",
   "execution_count": 27,
   "metadata": {},
   "outputs": [
    {
     "data": {
      "text/plain": [
       "959"
      ]
     },
     "execution_count": 27,
     "metadata": {},
     "output_type": "execute_result"
    }
   ],
   "source": [
    "df_copy.duplicated().sum()"
   ]
  },
  {
   "cell_type": "markdown",
   "metadata": {},
   "source": [
    "Terdapat 959 baris yang akan dihilangkan atau didrop dari dataset."
   ]
  },
  {
   "cell_type": "code",
   "execution_count": 28,
   "metadata": {},
   "outputs": [],
   "source": [
    "df_copy = df_copy.drop_duplicates(df_copy.columns, keep='last')"
   ]
  },
  {
   "cell_type": "markdown",
   "metadata": {},
   "source": [
    "## Mapping Kolom Borough"
   ]
  },
  {
   "cell_type": "code",
   "execution_count": 29,
   "metadata": {},
   "outputs": [],
   "source": [
    "# Mengubah kategori angka menjadi nama borough\n",
    "df_copy['BOROUGH'] = df_copy['BOROUGH'].map({1:'Manhattan', 2:'Bronx', 3:'Brooklyn', 4:'Queens', 5:'Staten Island'})"
   ]
  },
  {
   "cell_type": "code",
   "execution_count": 30,
   "metadata": {},
   "outputs": [
    {
     "data": {
      "text/html": [
       "<div>\n",
       "<style scoped>\n",
       "    .dataframe tbody tr th:only-of-type {\n",
       "        vertical-align: middle;\n",
       "    }\n",
       "\n",
       "    .dataframe tbody tr th {\n",
       "        vertical-align: top;\n",
       "    }\n",
       "\n",
       "    .dataframe thead th {\n",
       "        text-align: right;\n",
       "    }\n",
       "</style>\n",
       "<table border=\"1\" class=\"dataframe\">\n",
       "  <thead>\n",
       "    <tr style=\"text-align: right;\">\n",
       "      <th></th>\n",
       "      <th>RESIDENTIAL UNITS</th>\n",
       "      <th>COMMERCIAL UNITS</th>\n",
       "      <th>TOTAL UNITS</th>\n",
       "      <th>LAND SQUARE FEET</th>\n",
       "      <th>GROSS SQUARE FEET</th>\n",
       "      <th>SALE PRICE</th>\n",
       "      <th>SALE DATE</th>\n",
       "      <th>SALE YEAR</th>\n",
       "    </tr>\n",
       "  </thead>\n",
       "  <tbody>\n",
       "    <tr>\n",
       "      <th>count</th>\n",
       "      <td>47285.000000</td>\n",
       "      <td>47285.000000</td>\n",
       "      <td>47285.000000</td>\n",
       "      <td>4.728500e+04</td>\n",
       "      <td>4.728500e+04</td>\n",
       "      <td>4.728500e+04</td>\n",
       "      <td>47285</td>\n",
       "      <td>47285.000000</td>\n",
       "    </tr>\n",
       "    <tr>\n",
       "      <th>mean</th>\n",
       "      <td>2.514053</td>\n",
       "      <td>0.239717</td>\n",
       "      <td>2.770561</td>\n",
       "      <td>3.291470e+03</td>\n",
       "      <td>3.530269e+03</td>\n",
       "      <td>1.171341e+06</td>\n",
       "      <td>2017-02-25 20:36:21.393676544</td>\n",
       "      <td>2016.647393</td>\n",
       "    </tr>\n",
       "    <tr>\n",
       "      <th>min</th>\n",
       "      <td>0.000000</td>\n",
       "      <td>0.000000</td>\n",
       "      <td>0.000000</td>\n",
       "      <td>0.000000e+00</td>\n",
       "      <td>0.000000e+00</td>\n",
       "      <td>0.000000e+00</td>\n",
       "      <td>2016-09-01 00:00:00</td>\n",
       "      <td>2016.000000</td>\n",
       "    </tr>\n",
       "    <tr>\n",
       "      <th>25%</th>\n",
       "      <td>1.000000</td>\n",
       "      <td>0.000000</td>\n",
       "      <td>1.000000</td>\n",
       "      <td>1.463000e+03</td>\n",
       "      <td>8.840000e+02</td>\n",
       "      <td>1.247340e+05</td>\n",
       "      <td>2016-11-29 00:00:00</td>\n",
       "      <td>2016.000000</td>\n",
       "    </tr>\n",
       "    <tr>\n",
       "      <th>50%</th>\n",
       "      <td>1.000000</td>\n",
       "      <td>0.000000</td>\n",
       "      <td>1.000000</td>\n",
       "      <td>2.150000e+03</td>\n",
       "      <td>1.628000e+03</td>\n",
       "      <td>4.900000e+05</td>\n",
       "      <td>2017-02-27 00:00:00</td>\n",
       "      <td>2017.000000</td>\n",
       "    </tr>\n",
       "    <tr>\n",
       "      <th>75%</th>\n",
       "      <td>2.000000</td>\n",
       "      <td>0.000000</td>\n",
       "      <td>2.000000</td>\n",
       "      <td>3.088000e+03</td>\n",
       "      <td>2.520000e+03</td>\n",
       "      <td>8.400000e+05</td>\n",
       "      <td>2017-05-26 00:00:00</td>\n",
       "      <td>2017.000000</td>\n",
       "    </tr>\n",
       "    <tr>\n",
       "      <th>max</th>\n",
       "      <td>1844.000000</td>\n",
       "      <td>2261.000000</td>\n",
       "      <td>2261.000000</td>\n",
       "      <td>4.228300e+06</td>\n",
       "      <td>3.750565e+06</td>\n",
       "      <td>2.210000e+09</td>\n",
       "      <td>2017-08-31 00:00:00</td>\n",
       "      <td>2017.000000</td>\n",
       "    </tr>\n",
       "    <tr>\n",
       "      <th>std</th>\n",
       "      <td>16.532690</td>\n",
       "      <td>10.915300</td>\n",
       "      <td>19.935527</td>\n",
       "      <td>3.071844e+04</td>\n",
       "      <td>2.916192e+04</td>\n",
       "      <td>1.352859e+07</td>\n",
       "      <td>NaN</td>\n",
       "      <td>0.477787</td>\n",
       "    </tr>\n",
       "  </tbody>\n",
       "</table>\n",
       "</div>"
      ],
      "text/plain": [
       "       RESIDENTIAL UNITS  COMMERCIAL UNITS   TOTAL UNITS  LAND SQUARE FEET   \n",
       "count       47285.000000      47285.000000  47285.000000      4.728500e+04  \\\n",
       "mean            2.514053          0.239717      2.770561      3.291470e+03   \n",
       "min             0.000000          0.000000      0.000000      0.000000e+00   \n",
       "25%             1.000000          0.000000      1.000000      1.463000e+03   \n",
       "50%             1.000000          0.000000      1.000000      2.150000e+03   \n",
       "75%             2.000000          0.000000      2.000000      3.088000e+03   \n",
       "max          1844.000000       2261.000000   2261.000000      4.228300e+06   \n",
       "std            16.532690         10.915300     19.935527      3.071844e+04   \n",
       "\n",
       "       GROSS SQUARE FEET    SALE PRICE                      SALE DATE   \n",
       "count       4.728500e+04  4.728500e+04                          47285  \\\n",
       "mean        3.530269e+03  1.171341e+06  2017-02-25 20:36:21.393676544   \n",
       "min         0.000000e+00  0.000000e+00            2016-09-01 00:00:00   \n",
       "25%         8.840000e+02  1.247340e+05            2016-11-29 00:00:00   \n",
       "50%         1.628000e+03  4.900000e+05            2017-02-27 00:00:00   \n",
       "75%         2.520000e+03  8.400000e+05            2017-05-26 00:00:00   \n",
       "max         3.750565e+06  2.210000e+09            2017-08-31 00:00:00   \n",
       "std         2.916192e+04  1.352859e+07                            NaN   \n",
       "\n",
       "          SALE YEAR  \n",
       "count  47285.000000  \n",
       "mean    2016.647393  \n",
       "min     2016.000000  \n",
       "25%     2016.000000  \n",
       "50%     2017.000000  \n",
       "75%     2017.000000  \n",
       "max     2017.000000  \n",
       "std        0.477787  "
      ]
     },
     "execution_count": 30,
     "metadata": {},
     "output_type": "execute_result"
    }
   ],
   "source": [
    "df_copy.describe()"
   ]
  },
  {
   "cell_type": "code",
   "execution_count": 31,
   "metadata": {},
   "outputs": [
    {
     "data": {
      "text/html": [
       "<div>\n",
       "<style scoped>\n",
       "    .dataframe tbody tr th:only-of-type {\n",
       "        vertical-align: middle;\n",
       "    }\n",
       "\n",
       "    .dataframe tbody tr th {\n",
       "        vertical-align: top;\n",
       "    }\n",
       "\n",
       "    .dataframe thead th {\n",
       "        text-align: right;\n",
       "    }\n",
       "</style>\n",
       "<table border=\"1\" class=\"dataframe\">\n",
       "  <thead>\n",
       "    <tr style=\"text-align: right;\">\n",
       "      <th></th>\n",
       "      <th>BOROUGH</th>\n",
       "      <th>NEIGHBORHOOD</th>\n",
       "      <th>BUILDING CLASS CATEGORY</th>\n",
       "      <th>TAX CLASS AT PRESENT</th>\n",
       "      <th>BUILDING CLASS AT PRESENT</th>\n",
       "      <th>YEAR BUILT</th>\n",
       "      <th>TAX CLASS AT TIME OF SALE</th>\n",
       "      <th>BUILDING CLASS AT TIME OF SALE</th>\n",
       "    </tr>\n",
       "  </thead>\n",
       "  <tbody>\n",
       "    <tr>\n",
       "      <th>count</th>\n",
       "      <td>47285</td>\n",
       "      <td>47285</td>\n",
       "      <td>47285</td>\n",
       "      <td>47285</td>\n",
       "      <td>47285</td>\n",
       "      <td>47285</td>\n",
       "      <td>47285</td>\n",
       "      <td>47285</td>\n",
       "    </tr>\n",
       "    <tr>\n",
       "      <th>unique</th>\n",
       "      <td>5</td>\n",
       "      <td>251</td>\n",
       "      <td>47</td>\n",
       "      <td>11</td>\n",
       "      <td>160</td>\n",
       "      <td>151</td>\n",
       "      <td>4</td>\n",
       "      <td>160</td>\n",
       "    </tr>\n",
       "    <tr>\n",
       "      <th>top</th>\n",
       "      <td>Brooklyn</td>\n",
       "      <td>BEDFORD STUYVESANT</td>\n",
       "      <td>01 ONE FAMILY DWELLINGS</td>\n",
       "      <td>1</td>\n",
       "      <td>A1</td>\n",
       "      <td>1920</td>\n",
       "      <td>1</td>\n",
       "      <td>A1</td>\n",
       "    </tr>\n",
       "    <tr>\n",
       "      <th>freq</th>\n",
       "      <td>23395</td>\n",
       "      <td>1387</td>\n",
       "      <td>14301</td>\n",
       "      <td>30953</td>\n",
       "      <td>5224</td>\n",
       "      <td>4465</td>\n",
       "      <td>32151</td>\n",
       "      <td>5219</td>\n",
       "    </tr>\n",
       "  </tbody>\n",
       "</table>\n",
       "</div>"
      ],
      "text/plain": [
       "         BOROUGH        NEIGHBORHOOD   \n",
       "count      47285               47285  \\\n",
       "unique         5                 251   \n",
       "top     Brooklyn  BEDFORD STUYVESANT   \n",
       "freq       23395                1387   \n",
       "\n",
       "                            BUILDING CLASS CATEGORY TAX CLASS AT PRESENT   \n",
       "count                                         47285                47285  \\\n",
       "unique                                           47                   11   \n",
       "top     01 ONE FAMILY DWELLINGS                                        1   \n",
       "freq                                          14301                30953   \n",
       "\n",
       "       BUILDING CLASS AT PRESENT  YEAR BUILT  TAX CLASS AT TIME OF SALE   \n",
       "count                      47285       47285                      47285  \\\n",
       "unique                       160         151                          4   \n",
       "top                           A1        1920                          1   \n",
       "freq                        5224        4465                      32151   \n",
       "\n",
       "       BUILDING CLASS AT TIME OF SALE  \n",
       "count                           47285  \n",
       "unique                            160  \n",
       "top                                A1  \n",
       "freq                             5219  "
      ]
     },
     "execution_count": 31,
     "metadata": {},
     "output_type": "execute_result"
    }
   ],
   "source": [
    "df_copy.describe(include='category')"
   ]
  },
  {
   "cell_type": "markdown",
   "metadata": {},
   "source": [
    "### Kolom Sale Price"
   ]
  },
  {
   "cell_type": "markdown",
   "metadata": {},
   "source": [
    "Berdasarkan nilai maksimum pada kolom sale price adalah sekitar 2.000.000.000 USD, sedangkan nilai kuartil tiganya adalah sekitar 8.400.000 USD. Dengan begitu distribusi frekuensi kolom sale price dengan nilai harga penjualan di atas 10.000.000 USD tidak disertakan."
   ]
  },
  {
   "cell_type": "code",
   "execution_count": 32,
   "metadata": {},
   "outputs": [
    {
     "data": {
      "text/plain": [
       "Text(0.5, 1.0, 'Distribusi Sale Price')"
      ]
     },
     "execution_count": 32,
     "metadata": {},
     "output_type": "execute_result"
    },
    {
     "data": {
      "text/plain": [
       "<Figure size 1000x500 with 0 Axes>"
      ]
     },
     "metadata": {},
     "output_type": "display_data"
    },
    {
     "data": {
      "image/png": "[encoded data removed]",
      "text/plain": [
       "<Figure size 500x500 with 1 Axes>"
      ]
     },
     "metadata": {},
     "output_type": "display_data"
    }
   ],
   "source": [
    "df_copy = df_copy[df_copy['SALE PRICE']<10000000].copy()\n",
    "plt.figure(figsize=(10,5))\n",
    "sns.displot(df_copy['SALE PRICE'], kde=True, bins=50)\n",
    "plt.title('Distribusi Sale Price')"
   ]
  },
  {
   "cell_type": "markdown",
   "metadata": {},
   "source": [
    "Masih terdapat nilai harga penjualan yang berbeda signifikan sehingga nilai harga penjualan diatas 5.000.000 USD tidak akan disertakan. Dan berdasarkan nilai kuartil 1, yaitu sekitar 100.000 USD, harga penjualan yang dibawah ini juga tidak akan disertakan dalam analisis. Dengan begitu, distribusi frekuensinya sebagai berikut. "
   ]
  },
  {
   "cell_type": "code",
   "execution_count": 33,
   "metadata": {},
   "outputs": [
    {
     "data": {
      "text/plain": [
       "Text(0.5, 1.0, 'Distribusi Sale Price')"
      ]
     },
     "execution_count": 33,
     "metadata": {},
     "output_type": "execute_result"
    },
    {
     "data": {
      "text/plain": [
       "<Figure size 1000x500 with 0 Axes>"
      ]
     },
     "metadata": {},
     "output_type": "display_data"
    },
    {
     "data": {
      "image/png": "[encoded data removed]",
      "text/plain": [
       "<Figure size 500x500 with 1 Axes>"
      ]
     },
     "metadata": {},
     "output_type": "display_data"
    }
   ],
   "source": [
    "df_copy = df_copy[(df_copy['SALE PRICE'] > 100000) & (df_copy['SALE PRICE'] < 5000000)]\n",
    "plt.figure(figsize=(10,5))\n",
    "sns.displot(df_copy['SALE PRICE'], kde=True, bins=50)\n",
    "plt.title('Distribusi Sale Price')"
   ]
  },
  {
   "cell_type": "code",
   "execution_count": 34,
   "metadata": {},
   "outputs": [
    {
     "data": {
      "text/plain": [
       "count    3.458700e+04\n",
       "mean     7.965060e+05\n",
       "std      6.536591e+05\n",
       "min      1.007000e+05\n",
       "25%      4.160950e+05\n",
       "50%      6.160000e+05\n",
       "75%      9.300000e+05\n",
       "max      4.986410e+06\n",
       "Name: SALE PRICE, dtype: float64"
      ]
     },
     "execution_count": 34,
     "metadata": {},
     "output_type": "execute_result"
    }
   ],
   "source": [
    "df_copy['SALE PRICE'].describe()"
   ]
  },
  {
   "cell_type": "markdown",
   "metadata": {},
   "source": [
    "Dari analisis data di atas, dapat diketahui bahwa kolom sale price pada dataset awal memiliki nilai minimum 0 dan nilai maksimum sekitar 2.000.000.000 USD. Nilai dibawah kuartil 1 dan nilai diatas kuartil 3 dianggap sebagai outlier sehingga pada dataset akhir didapat nilai minimum sekitar 100.000 USD dan nilai maksimum sekitar 5.000.000 USD."
   ]
  },
  {
   "cell_type": "markdown",
   "metadata": {},
   "source": [
    "### Kolom Land Square Feet dan Gross Square Feet"
   ]
  },
  {
   "cell_type": "markdown",
   "metadata": {},
   "source": [
    "Dari tabel statistik pada kolom land square feet dan gross square feet terdapat nilai pada kedua kolom ini sehingga baris yang mengandung nilai pada kedua kolom tersebut tidak disertakan dalam analisis karena ukuran lahan properti dalam satuan feet tidak memiliki kemungkinan bernilai 0."
   ]
  },
  {
   "cell_type": "code",
   "execution_count": 35,
   "metadata": {},
   "outputs": [],
   "source": [
    "df_copy = df_copy[df_copy['GROSS SQUARE FEET'] != 0]\n",
    "df_copy = df_copy[df_copy['LAND SQUARE FEET'] != 0]"
   ]
  },
  {
   "cell_type": "markdown",
   "metadata": {},
   "source": [
    "## Data Final"
   ]
  },
  {
   "cell_type": "code",
   "execution_count": 36,
   "metadata": {},
   "outputs": [
    {
     "data": {
      "text/html": [
       "<div>\n",
       "<style scoped>\n",
       "    .dataframe tbody tr th:only-of-type {\n",
       "        vertical-align: middle;\n",
       "    }\n",
       "\n",
       "    .dataframe tbody tr th {\n",
       "        vertical-align: top;\n",
       "    }\n",
       "\n",
       "    .dataframe thead th {\n",
       "        text-align: right;\n",
       "    }\n",
       "</style>\n",
       "<table border=\"1\" class=\"dataframe\">\n",
       "  <thead>\n",
       "    <tr style=\"text-align: right;\">\n",
       "      <th></th>\n",
       "      <th>index</th>\n",
       "      <th>BOROUGH</th>\n",
       "      <th>NEIGHBORHOOD</th>\n",
       "      <th>BUILDING CLASS CATEGORY</th>\n",
       "      <th>TAX CLASS AT PRESENT</th>\n",
       "      <th>BUILDING CLASS AT PRESENT</th>\n",
       "      <th>RESIDENTIAL UNITS</th>\n",
       "      <th>COMMERCIAL UNITS</th>\n",
       "      <th>TOTAL UNITS</th>\n",
       "      <th>LAND SQUARE FEET</th>\n",
       "      <th>GROSS SQUARE FEET</th>\n",
       "      <th>YEAR BUILT</th>\n",
       "      <th>TAX CLASS AT TIME OF SALE</th>\n",
       "      <th>BUILDING CLASS AT TIME OF SALE</th>\n",
       "      <th>SALE PRICE</th>\n",
       "      <th>SALE DATE</th>\n",
       "      <th>SALE MONTH</th>\n",
       "      <th>SALE YEAR</th>\n",
       "    </tr>\n",
       "  </thead>\n",
       "  <tbody>\n",
       "    <tr>\n",
       "      <th>0</th>\n",
       "      <td>3</td>\n",
       "      <td>Manhattan</td>\n",
       "      <td>ALPHABET CITY</td>\n",
       "      <td>07 RENTALS - WALKUP APARTMENTS</td>\n",
       "      <td>2B</td>\n",
       "      <td>C4</td>\n",
       "      <td>10</td>\n",
       "      <td>0</td>\n",
       "      <td>10</td>\n",
       "      <td>2272.0</td>\n",
       "      <td>6794.0</td>\n",
       "      <td>1913</td>\n",
       "      <td>2</td>\n",
       "      <td>C4</td>\n",
       "      <td>3936272.0</td>\n",
       "      <td>2016-09-23</td>\n",
       "      <td>September</td>\n",
       "      <td>2016</td>\n",
       "    </tr>\n",
       "    <tr>\n",
       "      <th>1</th>\n",
       "      <td>6</td>\n",
       "      <td>Manhattan</td>\n",
       "      <td>ALPHABET CITY</td>\n",
       "      <td>07 RENTALS - WALKUP APARTMENTS</td>\n",
       "      <td>2B</td>\n",
       "      <td>C4</td>\n",
       "      <td>8</td>\n",
       "      <td>0</td>\n",
       "      <td>8</td>\n",
       "      <td>1750.0</td>\n",
       "      <td>4226.0</td>\n",
       "      <td>1920</td>\n",
       "      <td>2</td>\n",
       "      <td>C4</td>\n",
       "      <td>3192840.0</td>\n",
       "      <td>2016-09-23</td>\n",
       "      <td>September</td>\n",
       "      <td>2016</td>\n",
       "    </tr>\n",
       "    <tr>\n",
       "      <th>2</th>\n",
       "      <td>172</td>\n",
       "      <td>Manhattan</td>\n",
       "      <td>ALPHABET CITY</td>\n",
       "      <td>14 RENTALS - 4-10 UNIT</td>\n",
       "      <td>2A</td>\n",
       "      <td>S3</td>\n",
       "      <td>3</td>\n",
       "      <td>1</td>\n",
       "      <td>4</td>\n",
       "      <td>1520.0</td>\n",
       "      <td>3360.0</td>\n",
       "      <td>1910</td>\n",
       "      <td>2</td>\n",
       "      <td>S3</td>\n",
       "      <td>3300000.0</td>\n",
       "      <td>2016-11-15</td>\n",
       "      <td>November</td>\n",
       "      <td>2016</td>\n",
       "    </tr>\n",
       "    <tr>\n",
       "      <th>3</th>\n",
       "      <td>174</td>\n",
       "      <td>Manhattan</td>\n",
       "      <td>ALPHABET CITY</td>\n",
       "      <td>14 RENTALS - 4-10 UNIT</td>\n",
       "      <td>2A</td>\n",
       "      <td>S5</td>\n",
       "      <td>5</td>\n",
       "      <td>1</td>\n",
       "      <td>6</td>\n",
       "      <td>1779.0</td>\n",
       "      <td>3713.0</td>\n",
       "      <td>1910</td>\n",
       "      <td>2</td>\n",
       "      <td>S5</td>\n",
       "      <td>4750000.0</td>\n",
       "      <td>2017-04-03</td>\n",
       "      <td>April</td>\n",
       "      <td>2017</td>\n",
       "    </tr>\n",
       "    <tr>\n",
       "      <th>4</th>\n",
       "      <td>195</td>\n",
       "      <td>Manhattan</td>\n",
       "      <td>ALPHABET CITY</td>\n",
       "      <td>22 STORE BUILDINGS</td>\n",
       "      <td>4</td>\n",
       "      <td>K4</td>\n",
       "      <td>0</td>\n",
       "      <td>1</td>\n",
       "      <td>1</td>\n",
       "      <td>1218.0</td>\n",
       "      <td>3586.0</td>\n",
       "      <td>1899</td>\n",
       "      <td>4</td>\n",
       "      <td>K4</td>\n",
       "      <td>3700000.0</td>\n",
       "      <td>2016-09-28</td>\n",
       "      <td>September</td>\n",
       "      <td>2016</td>\n",
       "    </tr>\n",
       "  </tbody>\n",
       "</table>\n",
       "</div>"
      ],
      "text/plain": [
       "   index    BOROUGH   NEIGHBORHOOD   \n",
       "0      3  Manhattan  ALPHABET CITY  \\\n",
       "1      6  Manhattan  ALPHABET CITY   \n",
       "2    172  Manhattan  ALPHABET CITY   \n",
       "3    174  Manhattan  ALPHABET CITY   \n",
       "4    195  Manhattan  ALPHABET CITY   \n",
       "\n",
       "                       BUILDING CLASS CATEGORY TAX CLASS AT PRESENT   \n",
       "0  07 RENTALS - WALKUP APARTMENTS                                2B  \\\n",
       "1  07 RENTALS - WALKUP APARTMENTS                                2B   \n",
       "2  14 RENTALS - 4-10 UNIT                                        2A   \n",
       "3  14 RENTALS - 4-10 UNIT                                        2A   \n",
       "4  22 STORE BUILDINGS                                             4   \n",
       "\n",
       "  BUILDING CLASS AT PRESENT  RESIDENTIAL UNITS  COMMERCIAL UNITS  TOTAL UNITS   \n",
       "0                        C4                 10                 0           10  \\\n",
       "1                        C4                  8                 0            8   \n",
       "2                        S3                  3                 1            4   \n",
       "3                        S5                  5                 1            6   \n",
       "4                        K4                  0                 1            1   \n",
       "\n",
       "   LAND SQUARE FEET  GROSS SQUARE FEET YEAR BUILT TAX CLASS AT TIME OF SALE   \n",
       "0            2272.0             6794.0       1913                         2  \\\n",
       "1            1750.0             4226.0       1920                         2   \n",
       "2            1520.0             3360.0       1910                         2   \n",
       "3            1779.0             3713.0       1910                         2   \n",
       "4            1218.0             3586.0       1899                         4   \n",
       "\n",
       "  BUILDING CLASS AT TIME OF SALE  SALE PRICE  SALE DATE SALE MONTH  SALE YEAR  \n",
       "0                             C4   3936272.0 2016-09-23  September       2016  \n",
       "1                             C4   3192840.0 2016-09-23  September       2016  \n",
       "2                             S3   3300000.0 2016-11-15   November       2016  \n",
       "3                             S5   4750000.0 2017-04-03      April       2017  \n",
       "4                             K4   3700000.0 2016-09-28  September       2016  "
      ]
     },
     "execution_count": 36,
     "metadata": {},
     "output_type": "execute_result"
    }
   ],
   "source": [
    "df_copy.reset_index(inplace=True)\n",
    "df_copy.head()"
   ]
  },
  {
   "cell_type": "code",
   "execution_count": 37,
   "metadata": {},
   "outputs": [
    {
     "data": {
      "text/plain": [
       "(26690, 18)"
      ]
     },
     "execution_count": 37,
     "metadata": {},
     "output_type": "execute_result"
    }
   ],
   "source": [
    "df_copy.shape"
   ]
  },
  {
   "cell_type": "code",
   "execution_count": 38,
   "metadata": {},
   "outputs": [
    {
     "name": "stdout",
     "output_type": "stream",
     "text": [
      "<class 'pandas.core.frame.DataFrame'>\n",
      "RangeIndex: 26690 entries, 0 to 26689\n",
      "Data columns (total 18 columns):\n",
      " #   Column                          Non-Null Count  Dtype         \n",
      "---  ------                          --------------  -----         \n",
      " 0   index                           26690 non-null  int64         \n",
      " 1   BOROUGH                         26690 non-null  category      \n",
      " 2   NEIGHBORHOOD                    26690 non-null  category      \n",
      " 3   BUILDING CLASS CATEGORY         26690 non-null  category      \n",
      " 4   TAX CLASS AT PRESENT            26690 non-null  category      \n",
      " 5   BUILDING CLASS AT PRESENT       26690 non-null  category      \n",
      " 6   RESIDENTIAL UNITS               26690 non-null  int64         \n",
      " 7   COMMERCIAL UNITS                26690 non-null  int64         \n",
      " 8   TOTAL UNITS                     26690 non-null  int64         \n",
      " 9   LAND SQUARE FEET                26690 non-null  float64       \n",
      " 10  GROSS SQUARE FEET               26690 non-null  float64       \n",
      " 11  YEAR BUILT                      26690 non-null  category      \n",
      " 12  TAX CLASS AT TIME OF SALE       26690 non-null  category      \n",
      " 13  BUILDING CLASS AT TIME OF SALE  26690 non-null  category      \n",
      " 14  SALE PRICE                      26690 non-null  float64       \n",
      " 15  SALE DATE                       26690 non-null  datetime64[ns]\n",
      " 16  SALE MONTH                      26690 non-null  object        \n",
      " 17  SALE YEAR                       26690 non-null  int32         \n",
      "dtypes: category(8), datetime64[ns](1), float64(3), int32(1), int64(4), object(1)\n",
      "memory usage: 2.3+ MB\n"
     ]
    }
   ],
   "source": [
    "df_copy.info()"
   ]
  },
  {
   "cell_type": "code",
   "execution_count": 39,
   "metadata": {},
   "outputs": [],
   "source": [
    "df_copy.drop('index', axis=1, inplace=True)"
   ]
  },
  {
   "cell_type": "code",
   "execution_count": 40,
   "metadata": {},
   "outputs": [
    {
     "data": {
      "text/html": [
       "<div>\n",
       "<style scoped>\n",
       "    .dataframe tbody tr th:only-of-type {\n",
       "        vertical-align: middle;\n",
       "    }\n",
       "\n",
       "    .dataframe tbody tr th {\n",
       "        vertical-align: top;\n",
       "    }\n",
       "\n",
       "    .dataframe thead th {\n",
       "        text-align: right;\n",
       "    }\n",
       "</style>\n",
       "<table border=\"1\" class=\"dataframe\">\n",
       "  <thead>\n",
       "    <tr style=\"text-align: right;\">\n",
       "      <th></th>\n",
       "      <th>RESIDENTIAL UNITS</th>\n",
       "      <th>COMMERCIAL UNITS</th>\n",
       "      <th>TOTAL UNITS</th>\n",
       "      <th>LAND SQUARE FEET</th>\n",
       "      <th>GROSS SQUARE FEET</th>\n",
       "      <th>SALE PRICE</th>\n",
       "      <th>SALE DATE</th>\n",
       "      <th>SALE YEAR</th>\n",
       "    </tr>\n",
       "  </thead>\n",
       "  <tbody>\n",
       "    <tr>\n",
       "      <th>count</th>\n",
       "      <td>26690.000000</td>\n",
       "      <td>26690.000000</td>\n",
       "      <td>26690.000000</td>\n",
       "      <td>2.669000e+04</td>\n",
       "      <td>2.669000e+04</td>\n",
       "      <td>2.669000e+04</td>\n",
       "      <td>26690</td>\n",
       "      <td>26690.000000</td>\n",
       "    </tr>\n",
       "    <tr>\n",
       "      <th>mean</th>\n",
       "      <td>2.079430</td>\n",
       "      <td>0.202360</td>\n",
       "      <td>2.280555</td>\n",
       "      <td>3.605680e+03</td>\n",
       "      <td>2.689596e+03</td>\n",
       "      <td>8.066531e+05</td>\n",
       "      <td>2017-02-26 03:06:43.836642816</td>\n",
       "      <td>2016.647433</td>\n",
       "    </tr>\n",
       "    <tr>\n",
       "      <th>min</th>\n",
       "      <td>0.000000</td>\n",
       "      <td>0.000000</td>\n",
       "      <td>0.000000</td>\n",
       "      <td>2.000000e+02</td>\n",
       "      <td>1.200000e+02</td>\n",
       "      <td>1.007000e+05</td>\n",
       "      <td>2016-09-01 00:00:00</td>\n",
       "      <td>2016.000000</td>\n",
       "    </tr>\n",
       "    <tr>\n",
       "      <th>25%</th>\n",
       "      <td>1.000000</td>\n",
       "      <td>0.000000</td>\n",
       "      <td>1.000000</td>\n",
       "      <td>2.000000e+03</td>\n",
       "      <td>1.344000e+03</td>\n",
       "      <td>4.400000e+05</td>\n",
       "      <td>2016-11-29 00:00:00</td>\n",
       "      <td>2016.000000</td>\n",
       "    </tr>\n",
       "    <tr>\n",
       "      <th>50%</th>\n",
       "      <td>2.000000</td>\n",
       "      <td>0.000000</td>\n",
       "      <td>2.000000</td>\n",
       "      <td>2.500000e+03</td>\n",
       "      <td>1.815000e+03</td>\n",
       "      <td>6.250000e+05</td>\n",
       "      <td>2017-02-27 00:00:00</td>\n",
       "      <td>2017.000000</td>\n",
       "    </tr>\n",
       "    <tr>\n",
       "      <th>75%</th>\n",
       "      <td>2.000000</td>\n",
       "      <td>0.000000</td>\n",
       "      <td>2.000000</td>\n",
       "      <td>3.846750e+03</td>\n",
       "      <td>2.508000e+03</td>\n",
       "      <td>9.250000e+05</td>\n",
       "      <td>2017-05-26 00:00:00</td>\n",
       "      <td>2017.000000</td>\n",
       "    </tr>\n",
       "    <tr>\n",
       "      <th>max</th>\n",
       "      <td>1844.000000</td>\n",
       "      <td>2261.000000</td>\n",
       "      <td>2261.000000</td>\n",
       "      <td>4.228300e+06</td>\n",
       "      <td>3.750565e+06</td>\n",
       "      <td>4.975000e+06</td>\n",
       "      <td>2017-08-31 00:00:00</td>\n",
       "      <td>2017.000000</td>\n",
       "    </tr>\n",
       "    <tr>\n",
       "      <th>std</th>\n",
       "      <td>12.929243</td>\n",
       "      <td>13.895957</td>\n",
       "      <td>19.054640</td>\n",
       "      <td>3.210219e+04</td>\n",
       "      <td>2.519181e+04</td>\n",
       "      <td>6.458509e+05</td>\n",
       "      <td>NaN</td>\n",
       "      <td>0.477778</td>\n",
       "    </tr>\n",
       "  </tbody>\n",
       "</table>\n",
       "</div>"
      ],
      "text/plain": [
       "       RESIDENTIAL UNITS  COMMERCIAL UNITS   TOTAL UNITS  LAND SQUARE FEET   \n",
       "count       26690.000000      26690.000000  26690.000000      2.669000e+04  \\\n",
       "mean            2.079430          0.202360      2.280555      3.605680e+03   \n",
       "min             0.000000          0.000000      0.000000      2.000000e+02   \n",
       "25%             1.000000          0.000000      1.000000      2.000000e+03   \n",
       "50%             2.000000          0.000000      2.000000      2.500000e+03   \n",
       "75%             2.000000          0.000000      2.000000      3.846750e+03   \n",
       "max          1844.000000       2261.000000   2261.000000      4.228300e+06   \n",
       "std            12.929243         13.895957     19.054640      3.210219e+04   \n",
       "\n",
       "       GROSS SQUARE FEET    SALE PRICE                      SALE DATE   \n",
       "count       2.669000e+04  2.669000e+04                          26690  \\\n",
       "mean        2.689596e+03  8.066531e+05  2017-02-26 03:06:43.836642816   \n",
       "min         1.200000e+02  1.007000e+05            2016-09-01 00:00:00   \n",
       "25%         1.344000e+03  4.400000e+05            2016-11-29 00:00:00   \n",
       "50%         1.815000e+03  6.250000e+05            2017-02-27 00:00:00   \n",
       "75%         2.508000e+03  9.250000e+05            2017-05-26 00:00:00   \n",
       "max         3.750565e+06  4.975000e+06            2017-08-31 00:00:00   \n",
       "std         2.519181e+04  6.458509e+05                            NaN   \n",
       "\n",
       "          SALE YEAR  \n",
       "count  26690.000000  \n",
       "mean    2016.647433  \n",
       "min     2016.000000  \n",
       "25%     2016.000000  \n",
       "50%     2017.000000  \n",
       "75%     2017.000000  \n",
       "max     2017.000000  \n",
       "std        0.477778  "
      ]
     },
     "execution_count": 40,
     "metadata": {},
     "output_type": "execute_result"
    }
   ],
   "source": [
    "df_copy.describe()"
   ]
  },
  {
   "cell_type": "markdown",
   "metadata": {},
   "source": [
    "## Analisis Data"
   ]
  },
  {
   "cell_type": "markdown",
   "metadata": {},
   "source": [
    "### Distribusi Statistik Harga Penjualan Unit Properti di NYC"
   ]
  },
  {
   "cell_type": "code",
   "execution_count": 41,
   "metadata": {},
   "outputs": [
    {
     "data": {
      "text/plain": [
       "count    2.669000e+04\n",
       "mean     8.066531e+05\n",
       "std      6.458509e+05\n",
       "min      1.007000e+05\n",
       "25%      4.400000e+05\n",
       "50%      6.250000e+05\n",
       "75%      9.250000e+05\n",
       "max      4.975000e+06\n",
       "Name: SALE PRICE, dtype: float64"
      ]
     },
     "execution_count": 41,
     "metadata": {},
     "output_type": "execute_result"
    }
   ],
   "source": [
    "df_copy[\"SALE PRICE\"].describe()"
   ]
  },
  {
   "cell_type": "code",
   "execution_count": 42,
   "metadata": {},
   "outputs": [
    {
     "data": {
      "text/plain": [
       "700000.0"
      ]
     },
     "execution_count": 42,
     "metadata": {},
     "output_type": "execute_result"
    }
   ],
   "source": [
    "df_copy['SALE PRICE'].mode()[0]"
   ]
  },
  {
   "cell_type": "code",
   "execution_count": 43,
   "metadata": {},
   "outputs": [
    {
     "data": {
      "text/plain": [
       "806653.0688272761"
      ]
     },
     "execution_count": 43,
     "metadata": {},
     "output_type": "execute_result"
    }
   ],
   "source": [
    "df_copy['SALE PRICE'].mean()"
   ]
  },
  {
   "cell_type": "code",
   "execution_count": 44,
   "metadata": {},
   "outputs": [
    {
     "data": {
      "text/plain": [
       "625000.0"
      ]
     },
     "execution_count": 44,
     "metadata": {},
     "output_type": "execute_result"
    }
   ],
   "source": [
    "df_copy['SALE PRICE'].median()"
   ]
  },
  {
   "cell_type": "code",
   "execution_count": 45,
   "metadata": {},
   "outputs": [
    {
     "data": {
      "image/png": "[encoded data removed]",
      "text/plain": [
       "<Figure size 1500x700 with 1 Axes>"
      ]
     },
     "metadata": {},
     "output_type": "display_data"
    }
   ],
   "source": [
    "df_copy['SALE PRICE'].plot(kind='hist', figsize=(15,7), bins=100, color='b')\n",
    "plt.title('Distribusi Frekuensi Harga Penjualan Gedung di New York City 2016-2017', fontsize=15)\n",
    "plt.xlabel('Harga', fontsize=10)\n",
    "plt.ylabel('Frekuensi', fontsize=10)\n",
    "plt.axvline(df_copy['SALE PRICE'].mean(), c='green')\n",
    "plt.axvline(df_copy['SALE PRICE'].median(), c='black')\n",
    "plt.axvline(df_copy['SALE PRICE'].mode()[0], c='yellow')\n",
    "plt.text(300000, 2000, 'median', fontsize=13)\n",
    "plt.text(850000, 1800, 'mean', fontsize=13)\n",
    "plt.text(700000, 1500, 'mode', fontsize=13)\n",
    "plt.grid()"
   ]
  },
  {
   "cell_type": "markdown",
   "metadata": {},
   "source": [
    "Berdasarkan plot di atas, distribusi statistik harga penjualan properti di New York dengan frekuensi tertinggi harga properti dibawah 1.000.000 USD. Dengan rata-rata penjualan properti sebesar 800.000 USD, memiliki nilai tengah harga penjualan properti sebesar 625.000 USD, dan properti yang paling banyak terjual dengan harga 700.000 USD."
   ]
  },
  {
   "cell_type": "code",
   "execution_count": 46,
   "metadata": {},
   "outputs": [
    {
     "name": "stdout",
     "output_type": "stream",
     "text": [
      "Range:  4874300.0\n",
      "Variance:  417123378960.759\n",
      "Standar Deviation:  645850.8953007335\n",
      "Skewness:  2.8182184686691394\n"
     ]
    }
   ],
   "source": [
    "print('Range: ', np.ptp(df_copy['SALE PRICE']))\n",
    "print('Variance: ', df_copy['SALE PRICE'].var())\n",
    "print('Standar Deviation: ', (df_copy['SALE PRICE'].var())**0.5)\n",
    "print('Skewness: ', scipy.stats.skew(df_copy['SALE PRICE'], bias=False))"
   ]
  },
  {
   "cell_type": "markdown",
   "metadata": {},
   "source": [
    "Dari penyebaran harga properti di atas, diketahui bahwa nilai varians dan standar deviasinya cukup besar yang artinya data sangat bervariasi sehingga rata-rata jarak penyimpanan setiap titik data terhadap srat-ratanya juga sangat besar. Dari harga penjualan properti juga memiliki nilai skewness atau kemiringan yang positif yang artinya nilai rata-rata lebih besar dari tengahnya. Terakhir, range data di atas adalah 4.885.710 USD."
   ]
  },
  {
   "cell_type": "markdown",
   "metadata": {},
   "source": [
    "### Apakah ada perbedaan nilai statistik harga penjualan berdasarkan wilayahnya?\n"
   ]
  },
  {
   "cell_type": "code",
   "execution_count": 47,
   "metadata": {},
   "outputs": [],
   "source": [
    "df_borough = df_copy[['BOROUGH','SALE PRICE']]\n",
    "df_borough_mean = df_borough.groupby('BOROUGH').mean().sort_values(by='SALE PRICE', ascending=True).reset_index()"
   ]
  },
  {
   "cell_type": "code",
   "execution_count": 48,
   "metadata": {},
   "outputs": [
    {
     "data": {
      "image/png": "[encoded data removed]",
      "text/plain": [
       "<Figure size 1000x600 with 1 Axes>"
      ]
     },
     "metadata": {},
     "output_type": "display_data"
    }
   ],
   "source": [
    "plt.figure(figsize=(10,6))\n",
    "sns.barplot(y = 'BOROUGH', x = 'SALE PRICE', data = df_borough_mean)\n",
    "plt.title('Rata-rata Harga Penjualan Gedung Berdasarkan Borough', fontsize=15)\n",
    "plt.show()"
   ]
  },
  {
   "cell_type": "markdown",
   "metadata": {},
   "source": [
    "Dari plot di atas, dapat diketahui bahwa wilayah Manhattan memiliki rata-rata harga penjualan properti tertinggi, sedangkan wialayah yang memiliki rata-rata harga penjualan properti terendah adalah Staten Island. Dapat disimpulkan bahwa perbedaan rata-rata antara wilayah Manhattan dengan wilayah yang lainnya cukup signifikan. Berikut merupakan tampilan nilai varians dan standar deviasi masing-masing wilayah."
   ]
  },
  {
   "cell_type": "code",
   "execution_count": 49,
   "metadata": {},
   "outputs": [
    {
     "name": "stdout",
     "output_type": "stream",
     "text": [
      "Variance and Standar Deviation each Borough:\n",
      "\n",
      "Manhattan:  1514969103563.49 and 1230840.81\n",
      "Bronx:  330669796970.95 and 575038.95\n",
      "Brooklyn:  644943417799.32 and 803083.69\n",
      "Queens:  208637346484.45 and 456768.37\n",
      "Staten Island:  75226541185.85 and 274274.57\n"
     ]
    }
   ],
   "source": [
    "# Membuat tabel nilai harga penjualan berdasarkan masing-masing borough\n",
    "df_m = df_borough[df_borough['BOROUGH']=='Manhattan']\n",
    "df_bx = df_borough[df_borough['BOROUGH']=='Bronx']\n",
    "df_brk = df_borough[df_borough['BOROUGH']=='Brooklyn']\n",
    "df_q = df_borough[df_borough['BOROUGH']=='Queens']\n",
    "df_si = df_borough[df_borough['BOROUGH']=='Staten Island']\n",
    "\n",
    "# Menampilkan nilai varians dan standar deviasi masing-masing borough\n",
    "print('Variance and Standar Deviation each Borough:\\n')\n",
    "print('Manhattan: ', round(df_m['SALE PRICE'].var(), 2), 'and', round((df_m['SALE PRICE'].var())**0.5, 2))\n",
    "print('Bronx: ', round(df_bx['SALE PRICE'].var(), 2), 'and', round((df_bx['SALE PRICE'].var())**0.5, 2))\n",
    "print('Brooklyn: ', round(df_brk['SALE PRICE'].var(), 2), 'and', round((df_brk['SALE PRICE'].var())**0.5, 2))\n",
    "print('Queens: ', round(df_q['SALE PRICE'].var(), 2), 'and', round((df_q['SALE PRICE'].var())**0.5, 2))\n",
    "print('Staten Island: ', round(df_si['SALE PRICE'].var(), 2), 'and', round((df_si['SALE PRICE'].var())**0.5, 2))"
   ]
  },
  {
   "cell_type": "code",
   "execution_count": 50,
   "metadata": {},
   "outputs": [
    {
     "data": {
      "text/plain": [
       "<seaborn.axisgrid.FacetGrid at 0x2394d6a6f50>"
      ]
     },
     "execution_count": 50,
     "metadata": {},
     "output_type": "execute_result"
    },
    {
     "data": {
      "image/png": "[encoded data removed]",
      "text/plain": [
       "<Figure size 500x500 with 1 Axes>"
      ]
     },
     "metadata": {},
     "output_type": "display_data"
    },
    {
     "data": {
      "image/png": "[encoded data removed]",
      "text/plain": [
       "<Figure size 500x500 with 1 Axes>"
      ]
     },
     "metadata": {},
     "output_type": "display_data"
    },
    {
     "data": {
      "image/png": "[encoded data removed]",
      "text/plain": [
       "<Figure size 500x500 with 1 Axes>"
      ]
     },
     "metadata": {},
     "output_type": "display_data"
    },
    {
     "data": {
      "image/png": "[encoded data removed]",
      "text/plain": [
       "<Figure size 500x500 with 1 Axes>"
      ]
     },
     "metadata": {},
     "output_type": "display_data"
    },
    {
     "data": {
      "image/png": "[encoded data removed]",
      "text/plain": [
       "<Figure size 500x500 with 1 Axes>"
      ]
     },
     "metadata": {},
     "output_type": "display_data"
    }
   ],
   "source": [
    "sns.displot(df_m['SALE PRICE'], kde=True, bins=50)\n",
    "sns.displot(df_bx['SALE PRICE'], kde=True, bins=50)\n",
    "sns.displot(df_brk['SALE PRICE'], kde=True, bins=50)\n",
    "sns.displot(df_q['SALE PRICE'], kde=True, bins=50)\n",
    "sns.displot(df_si['SALE PRICE'], kde=True, bins=50)"
   ]
  },
  {
   "cell_type": "markdown",
   "metadata": {},
   "source": [
    "Dari output di atas, diketahui bahwa wilayah Bronx, Brooklyn, Queens, dan Staten Island tidak memiliki perbedaan distribusi frekuensi nilai harga penjualan properti yang signifikan. Namun, pada wilayah Manhattan memiliki distribusi frekuensi yang paling berbeda dengan wilayah lainnya. Jika dilihat dari nilai varians dan standar deviasi, wilayah Manhattan memiliki nilai varians dan standar deviasi tertinggi dengan artian nilai penjualan properti di Manhattan sangat bervariasi dibandingkan dengan wilayah lainnya."
   ]
  },
  {
   "cell_type": "markdown",
   "metadata": {},
   "source": [
    "### Confidence Interval untuk Rata-rata Harga Penjualan Properti di NYC"
   ]
  },
  {
   "cell_type": "code",
   "execution_count": 51,
   "metadata": {},
   "outputs": [
    {
     "name": "stdout",
     "output_type": "stream",
     "text": [
      "[798904.42 814401.71]\n"
     ]
    }
   ],
   "source": [
    "dd = df_copy['SALE PRICE']\n",
    "\n",
    "m = dd.mean()\n",
    "s = dd.std()\n",
    "dof = len(dd)-1\n",
    "\n",
    "confidence = 0.95\n",
    "t_crit = np.abs(t.ppf((1-confidence)/2,dof))\n",
    "\n",
    "values = np.round((m-s*t_crit/np.sqrt(len(dd)), m+s*t_crit/np.sqrt(len(dd))), 2)\n",
    "\n",
    "print(values)"
   ]
  },
  {
   "cell_type": "markdown",
   "metadata": {},
   "source": [
    "Dari output di atas, rata-rata harga penjualan properti di NYC berada di antara 789.616 USD sampai 803.395 USD dengan peluangnya sebesar 0.95 atau 95%."
   ]
  },
  {
   "cell_type": "markdown",
   "metadata": {},
   "source": [
    "### Hypothesis Testing untuk Harga Penjualan Properti di Bronx dan Staten Island"
   ]
  },
  {
   "cell_type": "markdown",
   "metadata": {},
   "source": [
    "Dari analisis sebelumnya diketahui bahwa wilayah Bronx dan Staten Island tidak memiliki perbedaan distribusi yang signifikan sehingga memunculkan asumsi apakah rata-rata harga penjualan properti di Bronx dan Staten Island sama atau tidak. Dapat dilakukan dengan menggunakan uji statistik t, dengan hipotesis sebagai berikut.\n",
    "\n",
    "H0: Rata-rata harga penjualan di Bronx dan Staten Island sama.\n",
    "\n",
    "H1: Rata-rata harga penjualan di Bronx dan Staten Island tidak sama."
   ]
  },
  {
   "cell_type": "code",
   "execution_count": 52,
   "metadata": {},
   "outputs": [
    {
     "name": "stdout",
     "output_type": "stream",
     "text": [
      "stat=7.607, p=0.000\n",
      "Probably different distribution\n"
     ]
    },
    {
     "data": {
      "image/png": "[encoded data removed]",
      "text/plain": [
       "<Figure size 1200x500 with 2 Axes>"
      ]
     },
     "metadata": {},
     "output_type": "display_data"
    }
   ],
   "source": [
    "df_sp = df_copy[['BOROUGH','SALE PRICE']]\n",
    "df_bronx = df_sp[df_sp['BOROUGH']=='Bronx'].drop('BOROUGH', axis=1)\n",
    "df_si = df_sp[df_sp['BOROUGH']=='Staten Island'].drop('BOROUGH', axis=1)\n",
    "\n",
    "fig = plt.figure(figsize=(12,5))\n",
    "df_bronx.plot(kind='hist', ax=fig.add_subplot(1,2,1))\n",
    "df_si.plot(kind='hist', ax=fig.add_subplot(1,2,2))\n",
    "\n",
    "stat, p = ttest_ind(df_bronx, df_si)\n",
    "\n",
    "print('stat=%.3f, p=%.3f' % (stat, p))\n",
    "if p > 0.05:\n",
    "    print('Probably the same distribution')\n",
    "else:\n",
    "    print('Probably different distribution')"
   ]
  },
  {
   "cell_type": "markdown",
   "metadata": {},
   "source": [
    "Dari output di atas, nilai p-value < 0.05 yang artinya H0 ditolak sehingga rata-rata harga penjualan di Bronx dan Staten Island tidak sama. Dengan begitu dapat disimpulkan bahwa wilayah juga memengaruhi harga penjualan properti."
   ]
  },
  {
   "cell_type": "markdown",
   "metadata": {},
   "source": []
  }
 ],
 "metadata": {
  "kernelspec": {
   "display_name": "Python 3 (ipykernel)",
   "language": "python",
   "name": "python3"
  },
  "language_info": {
   "codemirror_mode": {
    "name": "ipython",
    "version": 3
   },
   "file_extension": ".py",
   "mimetype": "text/x-python",
   "name": "python",
   "nbconvert_exporter": "python",
   "pygments_lexer": "ipython3",
   "version": "3.10.10"
  }
 },
 "nbformat": 4,
 "nbformat_minor": 2
}
